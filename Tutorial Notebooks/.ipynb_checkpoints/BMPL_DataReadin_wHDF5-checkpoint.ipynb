{
 "cells": [
  {
   "cell_type": "markdown",
   "id": "0b4d7593-a3e8-484b-a761-9d9badc1e6c0",
   "metadata": {},
   "source": [
    "The typical datafile used for analysis in the BMPL is a .h5 file which uses a storage format called HDF5. To load at dataset into RAM memory for doing analysis, use the following code:"
   ]
  },
  {
   "cell_type": "code",
   "execution_count": 2,
   "id": "0aa57a47-761b-4f35-8e2b-fd3688304d7f",
   "metadata": {},
   "outputs": [
    {
     "name": "stdout",
     "output_type": "stream",
     "text": [
      "All Groups Contained\n",
      "discharge\n",
      "discharge/dis_I\n",
      "discharge/dis_I_raw\n",
      "discharge/dis_V\n",
      "discharge/dis_V_raw\n",
      "isat probe\n",
      "isat probe/isat\n",
      "mag_probe\n",
      "mag_probe/r\n",
      "mag_probe/r/b\n",
      "mag_probe/r/bdot\n",
      "mag_probe/squid\n",
      "mag_probe/squid/b\n",
      "mag_probe/squid/bdot\n",
      "mag_probe/t\n",
      "mag_probe/t/b\n",
      "mag_probe/t/bdot\n",
      "mag_probe/z\n",
      "mag_probe/z/b\n",
      "mag_probe/z/bdot\n",
      "probe_info\n",
      "probe_info/current_probe_factor\n",
      "probe_info/probe_hole_separation\n",
      "probe_info/probe_stalk_diameter\n",
      "probe_info/rloop_area\n",
      "probe_info/tloop_area\n",
      "probe_info/voltage_probe_factor\n",
      "probe_info/zloop_area\n",
      "run_info\n",
      "run_info/Collection Dates\n",
      "run_info/Discharge_Voltage (kV)\n",
      "run_info/Gas Close (ms)\n",
      "run_info/Gas Open (ms)\n",
      "run_info/Stuffing Delay (ms)\n",
      "time\n",
      "time/numsamples\n",
      "time/time_s\n",
      "time/time_us\n",
      "time/tinterval\n",
      "time/tstart\n"
     ]
    }
   ],
   "source": [
    "from load_hdf5 import load_hdf5\n",
    "datafilename= 'Dataset4_wiretarget_1p5kV_1msstuff_0kAwire_density_10shots.h5'\n",
    "data1=load_hdf5(datafilename,verbose=True)"
   ]
  },
  {
   "cell_type": "markdown",
   "id": "f9f4d823-9532-4e32-9174-df5636109e2e",
   "metadata": {},
   "source": [
    "You should see a long list of names that look like directory names. An HDF5 file works sort of like a filing system where arrays are stored in groups. This kind of system is called a dictionary. The different groups have names indicated with quotation marks while the actual stored variables or arrays are named without quaotations.\n",
    "\n"
   ]
  }
 ],
 "metadata": {
  "kernelspec": {
   "display_name": "Python 3 (ipykernel)",
   "language": "python",
   "name": "python3"
  },
  "language_info": {
   "codemirror_mode": {
    "name": "ipython",
    "version": 3
   },
   "file_extension": ".py",
   "mimetype": "text/x-python",
   "name": "python",
   "nbconvert_exporter": "python",
   "pygments_lexer": "ipython3",
   "version": "3.12.3"
  }
 },
 "nbformat": 4,
 "nbformat_minor": 5
}
