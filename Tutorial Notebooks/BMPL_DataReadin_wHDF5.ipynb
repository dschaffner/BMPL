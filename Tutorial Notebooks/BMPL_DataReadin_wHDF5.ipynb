{
 "cells": [
  {
   "cell_type": "markdown",
   "id": "0b4d7593-a3e8-484b-a761-9d9badc1e6c0",
   "metadata": {},
   "source": [
    "The typical datafile used for analysis in the BMPL is a .h5 file which uses a storage format called HDF5. To load at dataset into RAM memory for doing analysis, use the following code:"
   ]
  },
  {
   "cell_type": "code",
   "execution_count": 2,
   "id": "0aa57a47-761b-4f35-8e2b-fd3688304d7f",
   "metadata": {},
   "outputs": [
    {
     "name": "stdout",
     "output_type": "stream",
     "text": [
      "All Groups Contained\n",
      "discharge\n",
      "discharge/dis_I\n",
      "discharge/dis_I_raw\n",
      "discharge/dis_V\n",
      "discharge/dis_V_raw\n",
      "isat probe\n",
      "isat probe/isat\n",
      "mag_probe\n",
      "mag_probe/r\n",
      "mag_probe/r/b\n",
      "mag_probe/r/bdot\n",
      "mag_probe/squid\n",
      "mag_probe/squid/b\n",
      "mag_probe/squid/bdot\n",
      "mag_probe/t\n",
      "mag_probe/t/b\n",
      "mag_probe/t/bdot\n",
      "mag_probe/z\n",
      "mag_probe/z/b\n",
      "mag_probe/z/bdot\n",
      "probe_info\n",
      "probe_info/current_probe_factor\n",
      "probe_info/probe_hole_separation\n",
      "probe_info/probe_stalk_diameter\n",
      "probe_info/rloop_area\n",
      "probe_info/tloop_area\n",
      "probe_info/voltage_probe_factor\n",
      "probe_info/zloop_area\n",
      "run_info\n",
      "run_info/Collection Dates\n",
      "run_info/Discharge_Voltage (kV)\n",
      "run_info/Gas Close (ms)\n",
      "run_info/Gas Open (ms)\n",
      "run_info/Stuffing Delay (ms)\n",
      "time\n",
      "time/numsamples\n",
      "time/time_s\n",
      "time/time_us\n",
      "time/tinterval\n",
      "time/tstart\n"
     ]
    }
   ],
   "source": [
    "from load_hdf5 import load_hdf5\n",
    "datafilename= 'Dataset4_wiretarget_1p5kV_1msstuff_0kAwire_density_10shots.h5'\n",
    "data1=load_hdf5(datafilename,verbose=True)"
   ]
  },
  {
   "cell_type": "markdown",
   "id": "f9f4d823-9532-4e32-9174-df5636109e2e",
   "metadata": {},
   "source": [
    "You should see a long list of names that look like directory names. An HDF5 file works sort of like a filing system where arrays are stored in groups. This kind of system is called a dictionary. Within this dictionary there are two types of items: groups and datasets. Both are named using words in quotations. Groups are like the file folders and datasets are like the files---they are either numbers, strings, or arrays.\n",
    "\n",
    "To exact a particular dataset from the file, you need to list out the group names and dataset names. For example, there is a dataset that contains magnetic field values in the z-direction (based on cylindrical coordinates) as a function of time for three probes and for 10 shots. To isolate this dataset, we use the following code:"
   ]
  },
  {
   "cell_type": "code",
   "execution_count": 3,
   "id": "42b80270-fbb1-4c7f-a682-06fc657b64ec",
   "metadata": {},
   "outputs": [],
   "source": [
    "data_br = data1[\"mag_probe\"][\"r\"][\"b\"]"
   ]
  },
  {
   "cell_type": "markdown",
   "id": "715eaffb-143a-4248-bf5f-039ec6ec1771",
   "metadata": {},
   "source": [
    "To determine if we extracted the right object, we can check the array size of ```data_br``` using:"
   ]
  },
  {
   "cell_type": "code",
   "execution_count": 4,
   "id": "a84f6bbe-f3a7-46bf-b902-0ece244cd08b",
   "metadata": {},
   "outputs": [
    {
     "data": {
      "text/plain": [
       "(3, 10, 25003)"
      ]
     },
     "execution_count": 4,
     "metadata": {},
     "output_type": "execute_result"
    }
   ],
   "source": [
    "import numpy as np\n",
    "np.shape(data_br)"
   ]
  },
  {
   "cell_type": "markdown",
   "id": "51490773-1ca8-438b-a993-d5e7f849f724",
   "metadata": {},
   "source": [
    "As you see, it lists three numbers: The first is the number of probes (there are three magnetic probes in this dataset at three different axial locations), number of shots (we took 10 total shots), and number of samples (there are 25003 timesteps recorded for this data)."
   ]
  },
  {
   "cell_type": "code",
   "execution_count": null,
   "id": "e6242650-e3d9-4603-ab06-b7bef2159c40",
   "metadata": {},
   "outputs": [],
   "source": []
  }
 ],
 "metadata": {
  "kernelspec": {
   "display_name": "Python 3 (ipykernel)",
   "language": "python",
   "name": "python3"
  },
  "language_info": {
   "codemirror_mode": {
    "name": "ipython",
    "version": 3
   },
   "file_extension": ".py",
   "mimetype": "text/x-python",
   "name": "python",
   "nbconvert_exporter": "python",
   "pygments_lexer": "ipython3",
   "version": "3.12.3"
  }
 },
 "nbformat": 4,
 "nbformat_minor": 5
}
