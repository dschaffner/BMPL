{
 "cells": [
  {
   "cell_type": "markdown",
   "id": "4293ca3f-e5d0-41ef-8af1-0198ce40bde9",
   "metadata": {},
   "source": [
    "## Loading in BMPL Datasets in HDF5 format"
   ]
  },
  {
   "cell_type": "markdown",
   "id": "0b4d7593-a3e8-484b-a761-9d9badc1e6c0",
   "metadata": {},
   "source": [
    "The typical datafile used for analysis in the BMPL is a .h5 file which uses a storage format called HDF5. To load at dataset into RAM memory for doing analysis, use the following code:"
   ]
  },
  {
   "cell_type": "code",
   "execution_count": null,
   "id": "0aa57a47-761b-4f35-8e2b-fd3688304d7f",
   "metadata": {},
   "outputs": [],
   "source": [
    "from load_hdf5 import load_hdf5\n",
    "datafilename= 'Dataset4_wiretarget_1p5kV_1msstuff_0kAwire_density_10shots.h5'\n",
    "data1=load_hdf5(datafilename,verbose=True)"
   ]
  },
  {
   "cell_type": "markdown",
   "id": "f9f4d823-9532-4e32-9174-df5636109e2e",
   "metadata": {},
   "source": [
    "You should see a long list of names that look like directory names. An HDF5 file works sort of like a filing system where arrays are stored in groups. This kind of system is called a dictionary. Within this dictionary there are two types of items: groups and datasets. Both are named using words in quotations. Groups are like the file folders and datasets are like the files---they are either numbers, strings, or arrays.\n",
    "\n",
    "To exact a particular dataset from the file, you need to list out the group names and dataset names. For example, there is a dataset that contains magnetic field values in the z-direction (based on cylindrical coordinates) as a function of time for three probes and for 10 shots. To isolate this dataset, we use the following code:"
   ]
  },
  {
   "cell_type": "code",
   "execution_count": null,
   "id": "42b80270-fbb1-4c7f-a682-06fc657b64ec",
   "metadata": {},
   "outputs": [],
   "source": [
    "data_br = data1[\"mag_probe\"][\"r\"][\"b\"]"
   ]
  },
  {
   "cell_type": "markdown",
   "id": "715eaffb-143a-4248-bf5f-039ec6ec1771",
   "metadata": {},
   "source": [
    "To determine if we extracted the right object, we can check the array size of ```data_br``` using:"
   ]
  },
  {
   "cell_type": "code",
   "execution_count": null,
   "id": "a84f6bbe-f3a7-46bf-b902-0ece244cd08b",
   "metadata": {},
   "outputs": [],
   "source": [
    "import numpy as np\n",
    "np.shape(data_br)"
   ]
  },
  {
   "cell_type": "markdown",
   "id": "51490773-1ca8-438b-a993-d5e7f849f724",
   "metadata": {},
   "source": [
    "As you see, it lists three numbers: The first is the number of probes (there are three magnetic probes in this dataset at three different axial locations), number of shots (we took 10 total shots), and number of samples (there are 25003 timesteps recorded for this data)."
   ]
  },
  {
   "cell_type": "code",
   "execution_count": null,
   "id": "e6242650-e3d9-4603-ab06-b7bef2159c40",
   "metadata": {},
   "outputs": [],
   "source": []
  },
  {
   "cell_type": "markdown",
   "id": "78100298-60ce-49a6-8af1-ae4038f59c8c",
   "metadata": {},
   "source": [
    "Next, let's start taking a look at the data itself. The main way we will do this is by making plots of time series or time history. Let's define a variable that will contain the data for the first shot of the theta direction of magnetic field from the third probe. Remember, Python indexes lists/arrays starting at zero, not one. So the 1st element of an array is indexed with a zero, the 2nd element indexed with a one, and so on. We use a colon as a placeholder for the entire set of numbers in an array. In this case, we will call all of the samples for this shot. Conversely, if we put in a number, we would be defining ```timeseries1``` as a single number rather than a 1D array of numbers."
   ]
  },
  {
   "cell_type": "code",
   "execution_count": null,
   "id": "67b5bec9-2221-4dd1-8f46-73bce39911cb",
   "metadata": {},
   "outputs": [],
   "source": [
    "timeseries1 = data1[\"mag_probe\"]['t']['b'][2,0,:]"
   ]
  },
  {
   "cell_type": "markdown",
   "id": "0b56445d-8e66-44a2-b846-a9a40cefe03f",
   "metadata": {},
   "source": [
    "To visualize this data we will plot. We need to load ```matplotlib``` which is our plotting module. A basic plotting code looks like this:"
   ]
  },
  {
   "cell_type": "code",
   "execution_count": null,
   "id": "4217c380-aa3f-43e4-a085-000e31ba764b",
   "metadata": {},
   "outputs": [],
   "source": [
    "import matplotlib.pylab as plt\n",
    "plt.plot(timeseries1)"
   ]
  },
  {
   "cell_type": "markdown",
   "id": "4eb63058-3e21-4808-9a56-2f9b3f50ef0c",
   "metadata": {},
   "source": [
    "Technically, this is magnetic field data as a function of index, not of time. Note that the numbers on the x-axis range from 0 to 25000. In order to associate these fluctuations with time, we will need to extract a time array. Look back at the list of groups produced when you first loaded in the data. You should see a group labeled as ```time```. Let's extract the time array in microseconds, ```time_us```."
   ]
  },
  {
   "cell_type": "code",
   "execution_count": null,
   "id": "83a331d4-d5fc-4110-a2d7-f505c0d26280",
   "metadata": {},
   "outputs": [],
   "source": [
    "time_us = data1[\"time\"][\"time_us\"]\n",
    "np.shape(time_us)"
   ]
  },
  {
   "cell_type": "markdown",
   "id": "ad401cfd-dae1-4636-a983-da897365a0eb",
   "metadata": {},
   "source": [
    "The ```np.shape()``` call shows us that ```time_us``` is indeed a 1D array of numbers which should represent the shot duration in microseconds. Now, we will plot magnetic fluctuations as a function of time."
   ]
  },
  {
   "cell_type": "code",
   "execution_count": null,
   "id": "7a2e0d35-9ff7-4c0e-a42d-efedc2d8d904",
   "metadata": {},
   "outputs": [],
   "source": [
    "plt.plot(time_us,timeseries1)"
   ]
  },
  {
   "cell_type": "markdown",
   "id": "8875de9e-70f6-4b73-8e97-89c580f91c4f",
   "metadata": {},
   "source": [
    "Oops, an error was raised. This was because ```time_us``` and ```timeseries1``` do not have the same number of samples. You cannot plot two arrays together if they have different numbers. The reason for the difference has to do with something that happened earlier, when we converted the data from the measured voltage into magnetic field (this happened before you got the dataset). It has to do with an integration method. At any rate, we need to adjust our ```time_us``` array to match ```timeseries1```. We do this by using colon notation within the array. Below, we use the colon to cut off the first timestep, where the ```1``` indicates the starting index and the colon indicates whatever follows that index."
   ]
  },
  {
   "cell_type": "code",
   "execution_count": null,
   "id": "f1fb9517-f19a-4932-b27d-d7d7c1185e83",
   "metadata": {},
   "outputs": [],
   "source": [
    "timeB_us = time_us[1:]"
   ]
  },
  {
   "cell_type": "markdown",
   "id": "6486a147-1d4d-4bc8-948c-af2dd25dc8ba",
   "metadata": {},
   "source": [
    "Now we can try plotting again."
   ]
  },
  {
   "cell_type": "code",
   "execution_count": null,
   "id": "2ba957cf-6b74-47d8-8285-e637ada9107b",
   "metadata": {},
   "outputs": [],
   "source": [
    "plt.plot(timeB_us,timeseries1)"
   ]
  },
  {
   "cell_type": "markdown",
   "id": "33bed053-f85e-419d-bd36-2fc910394dc7",
   "metadata": {},
   "source": [
    "Next, see Paper Plotting Formats notebook for various ways of modifying and labeling your plots."
   ]
  },
  {
   "cell_type": "code",
   "execution_count": null,
   "id": "81510f0d-9a88-437d-825d-93aaed424b45",
   "metadata": {},
   "outputs": [],
   "source": []
  }
 ],
 "metadata": {
  "kernelspec": {
   "display_name": "Python 3 (ipykernel)",
   "language": "python",
   "name": "python3"
  },
  "language_info": {
   "codemirror_mode": {
    "name": "ipython",
    "version": 3
   },
   "file_extension": ".py",
   "mimetype": "text/x-python",
   "name": "python",
   "nbconvert_exporter": "python",
   "pygments_lexer": "ipython3",
   "version": "3.12.3"
  }
 },
 "nbformat": 4,
 "nbformat_minor": 5
}
